{
 "cells": [
  {
   "cell_type": "markdown",
   "id": "57efb1de-0162-4a9c-9735-b9364659adf3",
   "metadata": {},
   "source": [
    "1. Let's start by scraping the text from the blog post"
   ]
  },
  {
   "cell_type": "code",
   "execution_count": 1,
   "id": "ad50d237-fbec-44c0-9b89-67e75514a5fa",
   "metadata": {},
   "outputs": [
    {
     "data": {
      "text/plain": [
       "<Response [200]>"
      ]
     },
     "execution_count": 1,
     "metadata": {},
     "output_type": "execute_result"
    }
   ],
   "source": [
    "from bs4 import BeautifulSoup as bs\n",
    "import requests\n",
    "url=\"https://medium.com/mindfulness-and-meditation/to-make-reconciliation-possible-19e357bfac47\"\n",
    "response = requests.get(url)\n",
    "response"
   ]
  },
  {
   "cell_type": "code",
   "execution_count": 2,
   "id": "8751d1cf-2032-4988-8061-90f287c9a0db",
   "metadata": {},
   "outputs": [],
   "source": [
    "html= response.content"
   ]
  },
  {
   "cell_type": "code",
   "execution_count": 3,
   "id": "7c702635-f3c7-49ab-9296-5293b2602fbb",
   "metadata": {},
   "outputs": [],
   "source": [
    "soup=bs(html,\"lxml\")"
   ]
  },
  {
   "cell_type": "markdown",
   "id": "2ffef161-d202-43d9-a30f-aa91275112f1",
   "metadata": {},
   "source": [
    "2. We want here to select only the core text"
   ]
  },
  {
   "cell_type": "code",
   "execution_count": 5,
   "id": "650ab4ce-f215-451f-817e-88b95c584389",
   "metadata": {},
   "outputs": [],
   "source": [
    "blog_text= soup.find_all(\"p\",limit=44)\n",
    "core_text= \"\"\n",
    "for p in blog_text:\n",
    "    core_text+=p.text.strip().lower()"
   ]
  },
  {
   "cell_type": "markdown",
   "id": "2631a9d0-806f-41dd-94ba-c16283345b9c",
   "metadata": {},
   "source": [
    "3. Let's import the libraries to start working on the text summarization"
   ]
  },
  {
   "cell_type": "code",
   "execution_count": 6,
   "id": "7e24e27b-5b1f-47fe-aa34-07de5e73e2f7",
   "metadata": {},
   "outputs": [],
   "source": [
    "import nltk\n",
    "from nltk.corpus import stopwords\n",
    "from nltk.cluster.util import cosine_distance\n",
    "import numpy as np\n",
    "import networkx as nx\n",
    "import re\n",
    "from nltk.tokenize import sent_tokenize, word_tokenize"
   ]
  },
  {
   "cell_type": "code",
   "execution_count": 7,
   "id": "73995259-851e-47ee-9c4c-20b8d1b1c142",
   "metadata": {
    "collapsed": true,
    "jupyter": {
     "outputs_hidden": true
    },
    "tags": []
   },
   "outputs": [
    {
     "data": {
      "text/plain": [
       "'mindfulness and meditationjul 4, 2015good morning, dear sangha. today is the 13th of june in the year 2013, and we are on the third day of our retreat, “are you sure?”are you sure that the best moment of your life hasn’t arrived? if not, when? i think one of the most wonderful moments of our life was spent in the womb of our mother. at that time, we didn’t have to worry about anything. we didn’t have to struggle to survive. and the place was so comfortable. it was very soft and the weather was perfect. our mother breathed for us, ate for us, and drank for us. there was no worry, no fear, no anger. without fear, anger, and worries, the moment should be a wonderful moment. the chinese people call that place where we spend nine months or so “the palace of the child.”but when we were born, things were not the same. they cut the cord that linked us to our mother. you had to learn how to breathe in for the first time. you hadn’t learned how to breathe in yet. there was some liquid in your lungs. unless you could spit it out, you wouldn’t be able to breathe in for the first time. it was a very dangerous moment for us. if we couldn’t breathe in, we might die. fortunately most of us made it and survived. that was our first experience of fear — the fear of dying.we had been born but we were completely helpless. we had arms and legs but we couldn’t use them. there had to be someone to take care of us and feed us, otherwise we couldn’t survive. so that fear was not only the fear of dying but also the fear that you could not survive by yourself. at the same time that original fear was born, original desire was born, the desire to have someone to take care of you. there was the awareness that all alone you could not survive. you needed someone else to take care of you. that person might have been your mother or your nurse, but there had to be someone, otherwise you could not survive.so our original fear was linked to our original desire. if today we’re still looking for someone, thinking that without that other person we cannot survive, that is the continuation of the original desire. if we believe that without a partner we cannot survive, that belief is a continuation of the original belief.many emotions, like fear, anger, desire, and worry, have been transmitted to us by our father, our mother, and our ancestors. if we’re having some difficulties in our relationship with another person, maybe our fear, anger, and desire have to do with those kinds of difficulties. we want to reconcile with him or with her. we want to restore communication and bring about reconciliation. but the feelings of anger, fear, and desire in us may be an obstacle to reconciliation.the last time barack obama visited the middle east, he said, “peace between palestine and israel is possible.” we want to agree with him. but we want to ask, “how?”when i was in south korea last month, i gave a talk about peace between south korea and north korea. i saw that it’s not enough to limit the development of nuclear weapons programs. we have to address the larger, underlying issue, which is the amount of fear we have in us. if there’s no fear, anger, or suspicion, then people aren’t going to use nuclear or any other weapons. it’s not the absence of nuclear weapons alone that guarantees two countries can reconcile and have peace. it’s by removing the fear, anger, and suspicion that we can make true peace possible. north korea seems to be aggressive because it is testing nuclear weapons and threatening the south and other countries. but if we look very deeply, we see that all of that has its roots in fear. when you try to make nuclear weapons, it’s not truly because you want to destroy the other side, it’s because you’re fearful that they’ll attack you first.if you want to help north and south korea, if you want to help palestinians and israelis, you should do something to help remove the fear, anger, and suspicion on both sides. israelis and palestinians both have the desire to survive as a nation. both are fearful that the other side will destroy them. both are suspicious, because in the past what they’ve received from the other side is violence, killing, and bombing. so to make true peace possible, you have to try to remove the fear, anger, and suspicion from both sides. does obama, as a politician, have a way to help remove the huge amount of fear, anger, and suspicion that exists on both sides?north korea is deeply suspicious. the last time south korean president park visited obama, north korea thought it was an attempt to do something that could harm the north, even though president obama and president park may not have had that intention at all. our fear, anger, and suspicion distort everything and prevent us from seeing the truth. if the south would like to help the north, it should be able to do something to help remove that huge amount of suspicion, fear, and anger in the north.all of us have heard about the event in newtown. a young man went to a school and killed a lot of children and teachers. after the event, obama tried to make the kind of law that limits the right to buy guns. that can be helpful, but will not by itself resolve the underlying issue, which is the violence and anger in the people. can congress make some kind of law that can help remove the fear, anger, and violence in the younger generation?i think people buy guns not because they genuinely like guns per se, but because they’re afraid and they want to protect themselves. so the main, driving issue is not nuclear weapons or guns, it’s fear. when the united states and south korea put forth a condition for peace negotiations that says, “we will negotiate only on the condition that you stop testing nuclear weapons,” something is not right with that kind of policy. if iran or north korea are trying to make nuclear weapons, it’s not because they really like doing it, but because they have a lot of fear. to begin negotiations may help a little bit to reduce that fear. but i don’t think it’s helpful to put forth that condition.in a relationship, if reconciliation seems to be difficult, it’s not because the two people aren’t willing to reconcile; it’s because the amount of anger, fear, and suspicion in each person is already too big. you can’t say that the other person doesn’t want to reconcile. she wants to reconcile, but it’s because she still has a lot of anger, fear, and suspicion that you haven’t been able to reconcile with her. according to our experience of practice, if you want to help someone reduce their fear, anger, and suspicion, you first have to practice in order to reduce the amount of fear, anger, and suspicion in yourself.in busan, south korea, i gave a talk called “peace is possible” to a crowd of eleven thousand people. the monks who helped organize the public talk asked me to announce a prayer ceremony that would happen in the month of september. they planned to have something like fifty thousand people attending this ceremony of prayer for the sake of reconciliation between the north and the south. i told the crowd that to pray is not enough. you have to practice, you have to organize a session of practice that might last a month or so in order to help remove the amount of fear, anger, and suspicion on both sides. that huge energy of fear, anger, and suspicion exists not only in the north, but also in the south. you should convene the kind of retreat to which wise people are invited to come and practice compassionate listening. you should allow people to come and express their suffering, their fear, their anger, their suspicion. we should look deeply into the block of suffering that we have in the south. because of that amount of anger, fear, and suspicion, we have said things and done things that have given the north the impression that we want to be aggressive and take over the north.the north has a huge fear of being destroyed, and they have the desire to survive. if the south can practice listening to her own suffering, fear, anger, and suspicion, then the south can transform that and heal, and will be in a position to help the north to do the same. otherwise, everything you try to do to help the north will be misunderstood.suppose you want to send the north a large shipment of grain and other foods, saying that the north needs a lot of food for the poor people to survive. you are motivated by the good intention to help the population of the north not to die of hunger. but the north may see it as an attempt to discredit them, as saying that the north isn’t capable of feeding its own population. anything you do or say can be distorted and create more anger, fear, and suspicion. our political leaders haven’t been trained in the art of helping to remove fear, anger, and suspicion.that is why we have to call for help from those of us who are spiritual, who are compassionate, who know how to listen, and who know how to transform fear, anger, and suspicion in ourselves.when fear and anger become a collective energy, it’s so dangerous, and a war can break out at any time.i was in the united states on september 11, 2001. my book, anger, had just been published the week before. after the events of september 11th, i could feel the huge collective fear and anger in north america. i saw that the situation was extremely dangerous. if the american people were carried away by that collective energy of anger and fear, then there would be a war very soon. four days after september 11th, i gave a public talk in berkeley that was attended by four thousand people. in that talk i said that the first thing i would advise the united states to do is to practice the eighth exercise of mindful breathing: recognizing the fear and the anger and trying to calm down.not many days later, i gave the same kind of talk at the riverside church in new york. i said that the first thing the people of the united states have to do is try to calm down and not allow the collective energy of anger and fear to carry them away. then they should sit down as a nation and ask themselves, “why have these people done such a thing to america?” there must be something wrong in your foreign policy, something wrong in the way you interact with the middle east. the united states should ask the question, “what have we done to make them so angry?” they must be very angry, very afraid, and full of despair to have done such a thing. the amount of fear, anger, and violence in them is huge. otherwise they wouldn’t have done such a thing. but in the united states the suffering, anger, and fear was also huge. there was a lot of violence and feelings of injustice, anger, and fear within the american nation itself.america has not had a chance to sit down as a nation to listen to its own suffering, fear, anger, despair, violence, and so on. in the public talk i gave in berkeley, i proposed that the united states organize a session of deep listening to the american people’s suffering. they should invite people representing those who feel that they’re victims of discrimination, violence, anger, fear, social injustice, and so on, and give them a chance to speak out. they should invite the best american people, those who know how to listen with compassion, who have no prejudices, and who have the capacity to understand and to listen. they could organize several such sessions of compassionate listening. if need be, the session could be televised so the whole population could participate. if we don’t understand our own suffering, fear, anger, and despair, then we can’t help the other side to do the same. this was also exactly what i recommended to the people in south korea last month. the south has to listen to itself and transform before it can listen to the north and help the north to remove fear, anger, and suspicion.then when the united states has listened and understood its own suffering, americans can turn to the middle east and use the kind of language called gentle, loving speech. they can say, “dear people over there, we know that you are very angry with us. if you weren’t so angry you wouldn’t have done such a thing to us. we know that you too have suffered a lot, otherwise you wouldn’t be so angry, you wouldn’t have done such a thing to us. we suffer very much. we don’t know why you have done this to us. have we said or done anything that gives you the impression that the united states has been trying to destroy you as a religion, as a civilization, as a way of life? we may have said or done something that has given you that impression. but in fact, we don’t have the intention of destroying you as a religion, as a civilization, as a way of life. dear people over there, please help us and tell us what wrong we have done to make you suffer that much.”that is the kind of language that in buddhism we call loving speech, gentle speech. it’s not an expression of anger, fear, or suspicion; it’s an effort to try to understand. if you can speak with that language, and if you’re sincere, then they will tell you what wrong you have done to them. then you have a chance to find out the roots of their wrong perceptions, and you will have a chance to offer them real information so they can make use of it to correct their perceptions. if they can reduce their suspicion and remove their wrong perceptions, then they can also remove their fear and their anger. the practice offered by the buddha, of deep listening and gentle speech, aims at restoring communication and bringing about reconciliation and peace. it can be applied not only to couples and individuals, but also to nations and ethnic groups.suppose a father is having a lot of difficulties with his son. son has made father suffer a lot, and at the same time father has made son suffer a lot. the son doesn’t dare to go close to his father because he’s afraid he’ll have to suffer again. and the father doesn’t understand that kind of fear. he thinks that his son is trying to defy him or boycott him. so suspicion and wrong perceptions continue to build up every day.if the son can see the suffering in his father — the existence of anger, fear, and suspicion — he may like to help his father. he knows that his father has suffered a lot because he doesn’t know how to handle the amount of anger, fear, and suspicion he has in himself. if the son has had a chance to listen to the dharma and to practice and understand his own fear, anger, and suspicion, then he’s in a position to help his father. when he’s able to see the amount of suffering in his father, his way of looking at his father will not be the same. he no longer has anger when he sees his father; in fact, because he can see the suffering in his father, he’s motivated by a desire to say something or do something to help his father suffer less.since he has compassion in his heart, he can say something like, “daddy, i know you have suffered so much in the last many years. i haven’t been able to help you to suffer less. in fact, i have reacted with anger and stubbornness and made you suffer more. father, it’s not my intention to make you suffer. it’s just because i haven’t been able to see or understand the suffering in you. please tell me what is in your heart, your difficulties, your suffering, your fear, your anger, so that i’ll be able to understand. i believe that if i can understand your suffering, i’ll be more skillful, i won’t say or do things to make you suffer like i have in the past. father, i need you to help me because if you won’t help me, no one can help me.” that is the way we can begin to try to restore communication. the south can begin talking to the north like that; israelis can begin to talk to palestinians like that. the one who initiates should be the one who has tried to understand his or her own suffering.in our retreats of mindfulness, the teaching of deep compassionate listening and loving speech is always offered to participants. in the first three days, practitioners are encouraged to go back to recognize and embrace the pain and suffering within themselves. by doing so, they’re able to calm down their feelings and emotions and come to understand the roots of their strong emotions like fear, anger, loneliness, and so on. when you can recognize and understood the suffering in you, it’s much easier for you to recognize and understand the suffering in the other person. that person may be your husband, your wife, your father, your mother, your daughter, or your son. on the fifth day of the retreat, during the dharma talk, we always advise practitioners to put into practice the teaching of compassionate listening and loving speech to restore communication with the other person and reconcile with him or her. the miracle of reconciliation always takes place in our retreats.on the morning of the fifth day, we say, “ladies and gentlemen, you have until midnight tonight in order to do this.” if the other person isn’t in the retreat, then you’re authorized to use your portable telephone. the miracle happens everywhere — thailand, japan, macao, hong kong, new york, los angeles, and so on.i remember very well a retreat that took place about ten years ago in oldenburg in the north of germany. on the morning of the sixth day, four gentlemen came to me and reported that the night before they had used their telephones and were able to reconcile with their fathers. one gentleman told me, “dear thay, i didn’t believe i could talk to my father with that kind of language. i was so angry with him that i had decided never to see him again in my life. yet last night when i called him up, i was very surprised to find that i could talk to my father that way.” he had said something like, “father, i know you have suffered so much during the last five or six years. i wasn’t able to help you to suffer less. in fact, i have reacted in a way that made you suffer much more. father, it was never my intention to make you suffer. it was because i didn’t see and understand your suffering. father, you should help me and tell me about your suffering. help me to understand your suffering so that i won’t be foolish and react the way i have in the past. i’m so sorry.”then he said to me, “dear thay, when my father heard me say that, he began to cry. then i had a chance to listen to him in the way you recommended. we have already reconciled, and the first thing i’m going to do after the retreat is to go and visit him.”the process of the practice is simple. you have to understand your own suffering first. after that, you’ll be able to understand the suffering of the other person much more easily. recognizing the suffering in him or in her, you are no longer angry at that person. and then you can very well use the kind of language that can help restore communication and make reconciliation possible.we learned a lot in plum village when we sponsored groups of palestinians and israelis to come and practice with us. the day they arrived in plum village, they couldn’t look at each other. both groups had a lot of suspicion, anger, and fear, because both groups had suffered so much. so for the first five days, the recommended practice was the practice of mindful breathing and mindful walking to get in touch with their suffering and to try to calm their feelings down. many of us who aren’t from the middle east walked with them, sat with them, breathed with them, ate with them, and supported them in their practice of getting in touch with the wonders of life, to heal, to nourish, and to embrace the painful feelings and emotions inside.when you’re a beginner in the practice, the energy of mindfulness that you generate isn’t powerful enough to embrace the huge amount of fear, anger, and suspicion inside you. you need the collective energy of mindfulness generated by the sangha to be strong enough to recognize and hold the energy of fear, anger, and suspicion.about ten days into the retreat we initiated them into the practice of listening with compassion and using loving speech. one group speaks and one group just listens. the group that practices compassionate listening is instructed to listen with only one purpose in mind — to help the other group to suffer less. that is the practice of compassionate listening. you give them a chance to speak out and suffer less. you play the role of the bodhisattva of deep listening.even if the other person says something wrong or provocative, you still continue to listen with compassion.you’re able to do that because you’re practicing mindfulness of compassion. to practice mindfulness of compassion means that during the whole time of listening, you practice mindful breathing and remind yourself of only one thing: “i am listening to him with just one purpose, to help to give him a chance to empty his heart and suffer less. i may be the first person who listened to him like this. if i interrupt him and correct him, i’ll transform the session into a debate and i’ll fail in my practice. even if there’s a lot of wrong information in what he says, i’m not going to interrupt and correct him. in three or four days i may offer him some real information to help him to correct his perception, but not now.”if you can maintain that alive in your heart during the time of listening, then you are protected by the energy of compassion, and what the other person says won’t be able to touch off the energy of irritation and anger in you anymore. in that way you can listen for one hour or more. and your practice of listening will have a quality that can help the other person suffer less.in fact, when one group listens to the other group like that, we recognize for the first time that the children and adults on the other side have suffered exactly the same kind of suffering that we have on this side. before, we had thought that the other side didn’t suffer, that they just make our side suffer. but by listening like that, we now know that on the other side they are human beings just like us and they have suffered exactly the same way as we have. when you’ve seen that, you won’t look at them with suspicion, anger, and fear anymore, and you easily can use the kind of language we call loving speech.we advise the group that has a chance to speak out, to use the kind of language that can help the other side to get all the information they need. the other group has a lot of suspicion and this suspicion has given rise to a lot of anger and fear. so the purpose of your speaking is to give them as much information as possible to help them to correct their perceptions of you. you should refrain from expressing your bitterness and anger; you should refrain from blaming and accusing.during these sessions, many dozens of us who were not palestinian or israeli would sit there and lend our support and offer them our energy of mindfulness. we could see the transformation and healing going on in these sessions. both groups now were able to look at each other with understanding and compassion, and they could sit down and share a meal together and hold hands while doing walking meditation together. it’s very beautiful. on the last day of the retreat they would always come up as one group and report to the whole sangha about the progress they had made during the last many weeks. and they always promised that when they returned to the middle east, they would set up a sangha and organize the same kind of practice so that other people could come and practice and suffer less.i think if political leaders knew the practice, they would be able to help both sides of the conflict to remove the suspicion, wrong perception, fear, and anger so that peace could truly be possible. the situation in the middle east has been dragging on for so many years. and the same can be said about the situation of north and south korea. but we know from our own experience in our retreats that five days are enough for you to transform yourself and transform the other person in order to bring about reconciliation.dear friends, this practice is found in the fourth mindfulness training. the practice of the fourth mindfulness training is recommended by the buddha for us to be able to restore communication and reconcile with the other person. let us go a little bit deeper into the study and the practice of this teaching. this practice not only is able to help reconcile two people in a relationship but also can reconcile ethnic groups and nations.'"
      ]
     },
     "execution_count": 7,
     "metadata": {},
     "output_type": "execute_result"
    }
   ],
   "source": [
    "# Removing Square Brackets and Extra Spaces\n",
    "core_text = re.sub(r'\\[[0-9]*\\]', ' ', article_text)\n",
    "core_text = re.sub(r'\\s+', ' ', article_text)\n",
    "core_text"
   ]
  },
  {
   "cell_type": "code",
   "execution_count": 8,
   "id": "55dba0f6-fa32-4f56-8bf8-d9094a7db605",
   "metadata": {
    "collapsed": true,
    "jupyter": {
     "outputs_hidden": true
    },
    "tags": []
   },
   "outputs": [
    {
     "data": {
      "text/plain": [
       "'mindfulness and meditationjul good morning dear sangha today is the th of june in the year and we are on the third day of our retreat are you sure are you sure that the best moment of your life hasn t arrived if not when i think one of the most wonderful moments of our life was spent in the womb of our mother at that time we didn t have to worry about anything we didn t have to struggle to survive and the place was so comfortable it was very soft and the weather was perfect our mother breathed for us ate for us and drank for us there was no worry no fear no anger without fear anger and worries the moment should be a wonderful moment the chinese people call that place where we spend nine months or so the palace of the child but when we were born things were not the same they cut the cord that linked us to our mother you had to learn how to breathe in for the first time you hadn t learned how to breathe in yet there was some liquid in your lungs unless you could spit it out you wouldn t be able to breathe in for the first time it was a very dangerous moment for us if we couldn t breathe in we might die fortunately most of us made it and survived that was our first experience of fear the fear of dying we had been born but we were completely helpless we had arms and legs but we couldn t use them there had to be someone to take care of us and feed us otherwise we couldn t survive so that fear was not only the fear of dying but also the fear that you could not survive by yourself at the same time that original fear was born original desire was born the desire to have someone to take care of you there was the awareness that all alone you could not survive you needed someone else to take care of you that person might have been your mother or your nurse but there had to be someone otherwise you could not survive so our original fear was linked to our original desire if today we re still looking for someone thinking that without that other person we cannot survive that is the continuation of the original desire if we believe that without a partner we cannot survive that belief is a continuation of the original belief many emotions like fear anger desire and worry have been transmitted to us by our father our mother and our ancestors if we re having some difficulties in our relationship with another person maybe our fear anger and desire have to do with those kinds of difficulties we want to reconcile with him or with her we want to restore communication and bring about reconciliation but the feelings of anger fear and desire in us may be an obstacle to reconciliation the last time barack obama visited the middle east he said peace between palestine and israel is possible we want to agree with him but we want to ask how when i was in south korea last month i gave a talk about peace between south korea and north korea i saw that it s not enough to limit the development of nuclear weapons programs we have to address the larger underlying issue which is the amount of fear we have in us if there s no fear anger or suspicion then people aren t going to use nuclear or any other weapons it s not the absence of nuclear weapons alone that guarantees two countries can reconcile and have peace it s by removing the fear anger and suspicion that we can make true peace possible north korea seems to be aggressive because it is testing nuclear weapons and threatening the south and other countries but if we look very deeply we see that all of that has its roots in fear when you try to make nuclear weapons it s not truly because you want to destroy the other side it s because you re fearful that they ll attack you first if you want to help north and south korea if you want to help palestinians and israelis you should do something to help remove the fear anger and suspicion on both sides israelis and palestinians both have the desire to survive as a nation both are fearful that the other side will destroy them both are suspicious because in the past what they ve received from the other side is violence killing and bombing so to make true peace possible you have to try to remove the fear anger and suspicion from both sides does obama as a politician have a way to help remove the huge amount of fear anger and suspicion that exists on both sides north korea is deeply suspicious the last time south korean president park visited obama north korea thought it was an attempt to do something that could harm the north even though president obama and president park may not have had that intention at all our fear anger and suspicion distort everything and prevent us from seeing the truth if the south would like to help the north it should be able to do something to help remove that huge amount of suspicion fear and anger in the north all of us have heard about the event in newtown a young man went to a school and killed a lot of children and teachers after the event obama tried to make the kind of law that limits the right to buy guns that can be helpful but will not by itself resolve the underlying issue which is the violence and anger in the people can congress make some kind of law that can help remove the fear anger and violence in the younger generation i think people buy guns not because they genuinely like guns per se but because they re afraid and they want to protect themselves so the main driving issue is not nuclear weapons or guns it s fear when the united states and south korea put forth a condition for peace negotiations that says we will negotiate only on the condition that you stop testing nuclear weapons something is not right with that kind of policy if iran or north korea are trying to make nuclear weapons it s not because they really like doing it but because they have a lot of fear to begin negotiations may help a little bit to reduce that fear but i don t think it s helpful to put forth that condition in a relationship if reconciliation seems to be difficult it s not because the two people aren t willing to reconcile it s because the amount of anger fear and suspicion in each person is already too big you can t say that the other person doesn t want to reconcile she wants to reconcile but it s because she still has a lot of anger fear and suspicion that you haven t been able to reconcile with her according to our experience of practice if you want to help someone reduce their fear anger and suspicion you first have to practice in order to reduce the amount of fear anger and suspicion in yourself in busan south korea i gave a talk called peace is possible to a crowd of eleven thousand people the monks who helped organize the public talk asked me to announce a prayer ceremony that would happen in the month of september they planned to have something like fifty thousand people attending this ceremony of prayer for the sake of reconciliation between the north and the south i told the crowd that to pray is not enough you have to practice you have to organize a session of practice that might last a month or so in order to help remove the amount of fear anger and suspicion on both sides that huge energy of fear anger and suspicion exists not only in the north but also in the south you should convene the kind of retreat to which wise people are invited to come and practice compassionate listening you should allow people to come and express their suffering their fear their anger their suspicion we should look deeply into the block of suffering that we have in the south because of that amount of anger fear and suspicion we have said things and done things that have given the north the impression that we want to be aggressive and take over the north the north has a huge fear of being destroyed and they have the desire to survive if the south can practice listening to her own suffering fear anger and suspicion then the south can transform that and heal and will be in a position to help the north to do the same otherwise everything you try to do to help the north will be misunderstood suppose you want to send the north a large shipment of grain and other foods saying that the north needs a lot of food for the poor people to survive you are motivated by the good intention to help the population of the north not to die of hunger but the north may see it as an attempt to discredit them as saying that the north isn t capable of feeding its own population anything you do or say can be distorted and create more anger fear and suspicion our political leaders haven t been trained in the art of helping to remove fear anger and suspicion that is why we have to call for help from those of us who are spiritual who are compassionate who know how to listen and who know how to transform fear anger and suspicion in ourselves when fear and anger become a collective energy it s so dangerous and a war can break out at any time i was in the united states on september my book anger had just been published the week before after the events of september th i could feel the huge collective fear and anger in north america i saw that the situation was extremely dangerous if the american people were carried away by that collective energy of anger and fear then there would be a war very soon four days after september th i gave a public talk in berkeley that was attended by four thousand people in that talk i said that the first thing i would advise the united states to do is to practice the eighth exercise of mindful breathing recognizing the fear and the anger and trying to calm down not many days later i gave the same kind of talk at the riverside church in new york i said that the first thing the people of the united states have to do is try to calm down and not allow the collective energy of anger and fear to carry them away then they should sit down as a nation and ask themselves why have these people done such a thing to america there must be something wrong in your foreign policy something wrong in the way you interact with the middle east the united states should ask the question what have we done to make them so angry they must be very angry very afraid and full of despair to have done such a thing the amount of fear anger and violence in them is huge otherwise they wouldn t have done such a thing but in the united states the suffering anger and fear was also huge there was a lot of violence and feelings of injustice anger and fear within the american nation itself america has not had a chance to sit down as a nation to listen to its own suffering fear anger despair violence and so on in the public talk i gave in berkeley i proposed that the united states organize a session of deep listening to the american people s suffering they should invite people representing those who feel that they re victims of discrimination violence anger fear social injustice and so on and give them a chance to speak out they should invite the best american people those who know how to listen with compassion who have no prejudices and who have the capacity to understand and to listen they could organize several such sessions of compassionate listening if need be the session could be televised so the whole population could participate if we don t understand our own suffering fear anger and despair then we can t help the other side to do the same this was also exactly what i recommended to the people in south korea last month the south has to listen to itself and transform before it can listen to the north and help the north to remove fear anger and suspicion then when the united states has listened and understood its own suffering americans can turn to the middle east and use the kind of language called gentle loving speech they can say dear people over there we know that you are very angry with us if you weren t so angry you wouldn t have done such a thing to us we know that you too have suffered a lot otherwise you wouldn t be so angry you wouldn t have done such a thing to us we suffer very much we don t know why you have done this to us have we said or done anything that gives you the impression that the united states has been trying to destroy you as a religion as a civilization as a way of life we may have said or done something that has given you that impression but in fact we don t have the intention of destroying you as a religion as a civilization as a way of life dear people over there please help us and tell us what wrong we have done to make you suffer that much that is the kind of language that in buddhism we call loving speech gentle speech it s not an expression of anger fear or suspicion it s an effort to try to understand if you can speak with that language and if you re sincere then they will tell you what wrong you have done to them then you have a chance to find out the roots of their wrong perceptions and you will have a chance to offer them real information so they can make use of it to correct their perceptions if they can reduce their suspicion and remove their wrong perceptions then they can also remove their fear and their anger the practice offered by the buddha of deep listening and gentle speech aims at restoring communication and bringing about reconciliation and peace it can be applied not only to couples and individuals but also to nations and ethnic groups suppose a father is having a lot of difficulties with his son son has made father suffer a lot and at the same time father has made son suffer a lot the son doesn t dare to go close to his father because he s afraid he ll have to suffer again and the father doesn t understand that kind of fear he thinks that his son is trying to defy him or boycott him so suspicion and wrong perceptions continue to build up every day if the son can see the suffering in his father the existence of anger fear and suspicion he may like to help his father he knows that his father has suffered a lot because he doesn t know how to handle the amount of anger fear and suspicion he has in himself if the son has had a chance to listen to the dharma and to practice and understand his own fear anger and suspicion then he s in a position to help his father when he s able to see the amount of suffering in his father his way of looking at his father will not be the same he no longer has anger when he sees his father in fact because he can see the suffering in his father he s motivated by a desire to say something or do something to help his father suffer less since he has compassion in his heart he can say something like daddy i know you have suffered so much in the last many years i haven t been able to help you to suffer less in fact i have reacted with anger and stubbornness and made you suffer more father it s not my intention to make you suffer it s just because i haven t been able to see or understand the suffering in you please tell me what is in your heart your difficulties your suffering your fear your anger so that i ll be able to understand i believe that if i can understand your suffering i ll be more skillful i won t say or do things to make you suffer like i have in the past father i need you to help me because if you won t help me no one can help me that is the way we can begin to try to restore communication the south can begin talking to the north like that israelis can begin to talk to palestinians like that the one who initiates should be the one who has tried to understand his or her own suffering in our retreats of mindfulness the teaching of deep compassionate listening and loving speech is always offered to participants in the first three days practitioners are encouraged to go back to recognize and embrace the pain and suffering within themselves by doing so they re able to calm down their feelings and emotions and come to understand the roots of their strong emotions like fear anger loneliness and so on when you can recognize and understood the suffering in you it s much easier for you to recognize and understand the suffering in the other person that person may be your husband your wife your father your mother your daughter or your son on the fifth day of the retreat during the dharma talk we always advise practitioners to put into practice the teaching of compassionate listening and loving speech to restore communication with the other person and reconcile with him or her the miracle of reconciliation always takes place in our retreats on the morning of the fifth day we say ladies and gentlemen you have until midnight tonight in order to do this if the other person isn t in the retreat then you re authorized to use your portable telephone the miracle happens everywhere thailand japan macao hong kong new york los angeles and so on i remember very well a retreat that took place about ten years ago in oldenburg in the north of germany on the morning of the sixth day four gentlemen came to me and reported that the night before they had used their telephones and were able to reconcile with their fathers one gentleman told me dear thay i didn t believe i could talk to my father with that kind of language i was so angry with him that i had decided never to see him again in my life yet last night when i called him up i was very surprised to find that i could talk to my father that way he had said something like father i know you have suffered so much during the last five or six years i wasn t able to help you to suffer less in fact i have reacted in a way that made you suffer much more father it was never my intention to make you suffer it was because i didn t see and understand your suffering father you should help me and tell me about your suffering help me to understand your suffering so that i won t be foolish and react the way i have in the past i m so sorry then he said to me dear thay when my father heard me say that he began to cry then i had a chance to listen to him in the way you recommended we have already reconciled and the first thing i m going to do after the retreat is to go and visit him the process of the practice is simple you have to understand your own suffering first after that you ll be able to understand the suffering of the other person much more easily recognizing the suffering in him or in her you are no longer angry at that person and then you can very well use the kind of language that can help restore communication and make reconciliation possible we learned a lot in plum village when we sponsored groups of palestinians and israelis to come and practice with us the day they arrived in plum village they couldn t look at each other both groups had a lot of suspicion anger and fear because both groups had suffered so much so for the first five days the recommended practice was the practice of mindful breathing and mindful walking to get in touch with their suffering and to try to calm their feelings down many of us who aren t from the middle east walked with them sat with them breathed with them ate with them and supported them in their practice of getting in touch with the wonders of life to heal to nourish and to embrace the painful feelings and emotions inside when you re a beginner in the practice the energy of mindfulness that you generate isn t powerful enough to embrace the huge amount of fear anger and suspicion inside you you need the collective energy of mindfulness generated by the sangha to be strong enough to recognize and hold the energy of fear anger and suspicion about ten days into the retreat we initiated them into the practice of listening with compassion and using loving speech one group speaks and one group just listens the group that practices compassionate listening is instructed to listen with only one purpose in mind to help the other group to suffer less that is the practice of compassionate listening you give them a chance to speak out and suffer less you play the role of the bodhisattva of deep listening even if the other person says something wrong or provocative you still continue to listen with compassion you re able to do that because you re practicing mindfulness of compassion to practice mindfulness of compassion means that during the whole time of listening you practice mindful breathing and remind yourself of only one thing i am listening to him with just one purpose to help to give him a chance to empty his heart and suffer less i may be the first person who listened to him like this if i interrupt him and correct him i ll transform the session into a debate and i ll fail in my practice even if there s a lot of wrong information in what he says i m not going to interrupt and correct him in three or four days i may offer him some real information to help him to correct his perception but not now if you can maintain that alive in your heart during the time of listening then you are protected by the energy of compassion and what the other person says won t be able to touch off the energy of irritation and anger in you anymore in that way you can listen for one hour or more and your practice of listening will have a quality that can help the other person suffer less in fact when one group listens to the other group like that we recognize for the first time that the children and adults on the other side have suffered exactly the same kind of suffering that we have on this side before we had thought that the other side didn t suffer that they just make our side suffer but by listening like that we now know that on the other side they are human beings just like us and they have suffered exactly the same way as we have when you ve seen that you won t look at them with suspicion anger and fear anymore and you easily can use the kind of language we call loving speech we advise the group that has a chance to speak out to use the kind of language that can help the other side to get all the information they need the other group has a lot of suspicion and this suspicion has given rise to a lot of anger and fear so the purpose of your speaking is to give them as much information as possible to help them to correct their perceptions of you you should refrain from expressing your bitterness and anger you should refrain from blaming and accusing during these sessions many dozens of us who were not palestinian or israeli would sit there and lend our support and offer them our energy of mindfulness we could see the transformation and healing going on in these sessions both groups now were able to look at each other with understanding and compassion and they could sit down and share a meal together and hold hands while doing walking meditation together it s very beautiful on the last day of the retreat they would always come up as one group and report to the whole sangha about the progress they had made during the last many weeks and they always promised that when they returned to the middle east they would set up a sangha and organize the same kind of practice so that other people could come and practice and suffer less i think if political leaders knew the practice they would be able to help both sides of the conflict to remove the suspicion wrong perception fear and anger so that peace could truly be possible the situation in the middle east has been dragging on for so many years and the same can be said about the situation of north and south korea but we know from our own experience in our retreats that five days are enough for you to transform yourself and transform the other person in order to bring about reconciliation dear friends this practice is found in the fourth mindfulness training the practice of the fourth mindfulness training is recommended by the buddha for us to be able to restore communication and reconcile with the other person let us go a little bit deeper into the study and the practice of this teaching this practice not only is able to help reconcile two people in a relationship but also can reconcile ethnic groups and nations '"
      ]
     },
     "execution_count": 8,
     "metadata": {},
     "output_type": "execute_result"
    }
   ],
   "source": [
    "# Removing special characters and digits\n",
    "formatted_text = re.sub('[^a-zA-Z]', ' ', core_text )\n",
    "formatted_text = re.sub(r'\\s+', ' ', formatted_text)\n",
    "formatted_text"
   ]
  },
  {
   "cell_type": "code",
   "execution_count": 9,
   "id": "709fb104-e490-4811-8065-2ce13b4b5b8b",
   "metadata": {},
   "outputs": [],
   "source": [
    "sentence_list = nltk.sent_tokenize(article_text)"
   ]
  },
  {
   "cell_type": "markdown",
   "id": "ab2b4343-093a-496d-8c4f-c30e024a855d",
   "metadata": {},
   "source": [
    "4. We import the stopwords list for english. It is necessary to avoid including words like \"the\" or \"a\" which are too common and don't bring much significance for our analysis. We then create a loop on the formatted text that scores 1 if a word is not the in the stopwords list if not 0. "
   ]
  },
  {
   "cell_type": "code",
   "execution_count": 11,
   "id": "4accc17f-b066-4d3a-b0cf-3da54b5671b2",
   "metadata": {
    "collapsed": true,
    "jupyter": {
     "outputs_hidden": true
    },
    "tags": []
   },
   "outputs": [
    {
     "data": {
      "text/plain": [
       "[('fear', 64),\n",
       " ('anger', 56),\n",
       " ('help', 36),\n",
       " ('suspicion', 33),\n",
       " ('practice', 29),\n",
       " ('north', 27),\n",
       " ('us', 26),\n",
       " ('suffering', 26),\n",
       " ('father', 24),\n",
       " ('people', 22),\n",
       " ('suffer', 20),\n",
       " ('able', 17),\n",
       " ('person', 17),\n",
       " ('south', 17),\n",
       " ('like', 16),\n",
       " ('listening', 16),\n",
       " ('could', 15),\n",
       " ('lot', 15),\n",
       " ('understand', 15),\n",
       " ('make', 14)]"
      ]
     },
     "execution_count": 11,
     "metadata": {},
     "output_type": "execute_result"
    }
   ],
   "source": [
    "from collections import Counter\n",
    "\n",
    "nltk.download(\"stopwords\", quiet=True)\n",
    "from nltk.corpus import stopwords\n",
    "stopwords_english = stopwords.words(\"english\")\n",
    "\n",
    "word_frequencies = {}\n",
    "for word in nltk.word_tokenize(formatted_text):\n",
    "    if word not in stopwords_english:\n",
    "        if word not in word_frequencies.keys():\n",
    "            word_frequencies[word] = 1\n",
    "        else:\n",
    "            word_frequencies[word] += 1\n",
    "Counter(word_frequencies).most_common(20)\n"
   ]
  },
  {
   "cell_type": "markdown",
   "id": "8e5b1361-b6e2-4541-97e2-c7c6a0148119",
   "metadata": {},
   "source": [
    "5. Let's plot it! We see that fear, anger and help are the most used words. "
   ]
  },
  {
   "cell_type": "code",
   "execution_count": 15,
   "id": "3387ca6e-d256-4e31-beba-d9296591a297",
   "metadata": {},
   "outputs": [
    {
     "data": {
      "image/png": "[encoded data removed]",
      "text/plain": [
       "<Figure size 1440x216 with 1 Axes>"
      ]
     },
     "metadata": {
      "needs_background": "light"
     },
     "output_type": "display_data"
    }
   ],
   "source": [
    "import pandas as pd\n",
    "import matplotlib.pyplot as plt\n",
    "df3 = pd.DataFrame(list(word_frequencies.items()),columns = ['word','frequency'])\n",
    "df4=df3.sort_values('frequency',ascending=False).head(20).reset_index()\n",
    "fig,ax = plt.subplots(figsize=(20,3))\n",
    "ax.grid(which=\"major\",axis=\"y\", color='#758D99', alpha=0.6, zorder=1)\n",
    "ax.spines[[\"top\",\"right\"]].set_visible(False)\n",
    "plt.title('Top 20 words by number of occurrences', fontsize=13, weight='bold', alpha=.8)\n",
    "plt.bar(x=df4['word'],height=df4['frequency'],color='#006BA2', zorder=2)\n",
    "plt.ylabel('Number of Occurrences')\n",
    "plt.savefig('occurrences.png',    \n",
    "            dpi = 300,                     \n",
    "            bbox_inches=\"tight\",           \n",
    "            facecolor='white')  "
   ]
  },
  {
   "cell_type": "code",
   "execution_count": 16,
   "id": "2736e26c-fd10-414a-9d94-aff478c8c21d",
   "metadata": {},
   "outputs": [
    {
     "data": {
      "text/plain": [
       "[('fear', 1.0),\n",
       " ('anger', 0.875),\n",
       " ('help', 0.5625),\n",
       " ('suspicion', 0.515625),\n",
       " ('practice', 0.453125),\n",
       " ('north', 0.421875),\n",
       " ('us', 0.40625),\n",
       " ('suffering', 0.40625),\n",
       " ('father', 0.375),\n",
       " ('people', 0.34375),\n",
       " ('suffer', 0.3125),\n",
       " ('able', 0.265625),\n",
       " ('person', 0.265625),\n",
       " ('south', 0.265625),\n",
       " ('like', 0.25),\n",
       " ('listening', 0.25),\n",
       " ('could', 0.234375),\n",
       " ('lot', 0.234375),\n",
       " ('understand', 0.234375),\n",
       " ('make', 0.21875)]"
      ]
     },
     "execution_count": 16,
     "metadata": {},
     "output_type": "execute_result"
    }
   ],
   "source": [
    "maximum_frequency = max(word_frequencies.values())\n",
    "\n",
    "for word in word_frequencies.keys():\n",
    "       word_frequencies[word] = (word_frequencies[word]/maximum_frequency)\n",
    "Counter(word_frequencies).most_common(20)"
   ]
  },
  {
   "cell_type": "code",
   "execution_count": 17,
   "id": "291b0b4d-f789-4ccc-ad8d-1ae103289108",
   "metadata": {
    "collapsed": true,
    "jupyter": {
     "outputs_hidden": true
    },
    "tags": []
   },
   "outputs": [
    {
     "data": {
      "text/html": [
       "<div>\n",
       "<style scoped>\n",
       "    .dataframe tbody tr th:only-of-type {\n",
       "        vertical-align: middle;\n",
       "    }\n",
       "\n",
       "    .dataframe tbody tr th {\n",
       "        vertical-align: top;\n",
       "    }\n",
       "\n",
       "    .dataframe thead th {\n",
       "        text-align: right;\n",
       "    }\n",
       "</style>\n",
       "<table border=\"1\" class=\"dataframe\">\n",
       "  <thead>\n",
       "    <tr style=\"text-align: right;\">\n",
       "      <th></th>\n",
       "      <th>index</th>\n",
       "      <th>word</th>\n",
       "      <th>weighted_frequencies</th>\n",
       "    </tr>\n",
       "  </thead>\n",
       "  <tbody>\n",
       "    <tr>\n",
       "      <th>0</th>\n",
       "      <td>39</td>\n",
       "      <td>fear</td>\n",
       "      <td>1.000000</td>\n",
       "    </tr>\n",
       "    <tr>\n",
       "      <th>1</th>\n",
       "      <td>40</td>\n",
       "      <td>anger</td>\n",
       "      <td>0.875000</td>\n",
       "    </tr>\n",
       "    <tr>\n",
       "      <th>2</th>\n",
       "      <td>175</td>\n",
       "      <td>help</td>\n",
       "      <td>0.562500</td>\n",
       "    </tr>\n",
       "    <tr>\n",
       "      <th>3</th>\n",
       "      <td>152</td>\n",
       "      <td>suspicion</td>\n",
       "      <td>0.515625</td>\n",
       "    </tr>\n",
       "    <tr>\n",
       "      <th>4</th>\n",
       "      <td>261</td>\n",
       "      <td>practice</td>\n",
       "      <td>0.453125</td>\n",
       "    </tr>\n",
       "    <tr>\n",
       "      <th>5</th>\n",
       "      <td>139</td>\n",
       "      <td>north</td>\n",
       "      <td>0.421875</td>\n",
       "    </tr>\n",
       "    <tr>\n",
       "      <th>6</th>\n",
       "      <td>36</td>\n",
       "      <td>us</td>\n",
       "      <td>0.406250</td>\n",
       "    </tr>\n",
       "    <tr>\n",
       "      <th>7</th>\n",
       "      <td>294</td>\n",
       "      <td>suffering</td>\n",
       "      <td>0.406250</td>\n",
       "    </tr>\n",
       "    <tr>\n",
       "      <th>8</th>\n",
       "      <td>105</td>\n",
       "      <td>father</td>\n",
       "      <td>0.375000</td>\n",
       "    </tr>\n",
       "    <tr>\n",
       "      <th>9</th>\n",
       "      <td>44</td>\n",
       "      <td>people</td>\n",
       "      <td>0.343750</td>\n",
       "    </tr>\n",
       "    <tr>\n",
       "      <th>10</th>\n",
       "      <td>406</td>\n",
       "      <td>suffer</td>\n",
       "      <td>0.312500</td>\n",
       "    </tr>\n",
       "    <tr>\n",
       "      <th>11</th>\n",
       "      <td>66</td>\n",
       "      <td>able</td>\n",
       "      <td>0.265625</td>\n",
       "    </tr>\n",
       "    <tr>\n",
       "      <th>12</th>\n",
       "      <td>134</td>\n",
       "      <td>south</td>\n",
       "      <td>0.265625</td>\n",
       "    </tr>\n",
       "    <tr>\n",
       "      <th>13</th>\n",
       "      <td>92</td>\n",
       "      <td>person</td>\n",
       "      <td>0.265625</td>\n",
       "    </tr>\n",
       "    <tr>\n",
       "      <th>14</th>\n",
       "      <td>291</td>\n",
       "      <td>listening</td>\n",
       "      <td>0.250000</td>\n",
       "    </tr>\n",
       "    <tr>\n",
       "      <th>15</th>\n",
       "      <td>103</td>\n",
       "      <td>like</td>\n",
       "      <td>0.250000</td>\n",
       "    </tr>\n",
       "    <tr>\n",
       "      <th>16</th>\n",
       "      <td>388</td>\n",
       "      <td>understand</td>\n",
       "      <td>0.234375</td>\n",
       "    </tr>\n",
       "    <tr>\n",
       "      <th>17</th>\n",
       "      <td>64</td>\n",
       "      <td>could</td>\n",
       "      <td>0.234375</td>\n",
       "    </tr>\n",
       "    <tr>\n",
       "      <th>18</th>\n",
       "      <td>215</td>\n",
       "      <td>lot</td>\n",
       "      <td>0.234375</td>\n",
       "    </tr>\n",
       "    <tr>\n",
       "      <th>19</th>\n",
       "      <td>219</td>\n",
       "      <td>kind</td>\n",
       "      <td>0.218750</td>\n",
       "    </tr>\n",
       "  </tbody>\n",
       "</table>\n",
       "</div>"
      ],
      "text/plain": [
       "    index        word  weighted_frequencies\n",
       "0      39        fear              1.000000\n",
       "1      40       anger              0.875000\n",
       "2     175        help              0.562500\n",
       "3     152   suspicion              0.515625\n",
       "4     261    practice              0.453125\n",
       "5     139       north              0.421875\n",
       "6      36          us              0.406250\n",
       "7     294   suffering              0.406250\n",
       "8     105      father              0.375000\n",
       "9      44      people              0.343750\n",
       "10    406      suffer              0.312500\n",
       "11     66        able              0.265625\n",
       "12    134       south              0.265625\n",
       "13     92      person              0.265625\n",
       "14    291   listening              0.250000\n",
       "15    103        like              0.250000\n",
       "16    388  understand              0.234375\n",
       "17     64       could              0.234375\n",
       "18    215         lot              0.234375\n",
       "19    219        kind              0.218750"
      ]
     },
     "execution_count": 17,
     "metadata": {},
     "output_type": "execute_result"
    }
   ],
   "source": [
    "import pandas as pd\n",
    "import matplotlib.pyplot as plt\n",
    "df = pd.DataFrame(list(word_frequencies.items()),columns = ['word','weighted_frequencies'])\n",
    "df2=df.sort_values('weighted_frequencies',ascending=False).head(20).reset_index()\n",
    "df2"
   ]
  },
  {
   "cell_type": "code",
   "execution_count": 18,
   "id": "90d0404a-5d6d-4bf0-aadf-07ce27023bba",
   "metadata": {},
   "outputs": [
    {
     "data": {
      "image/png": "[encoded data removed]",
      "text/plain": [
       "<Figure size 1440x216 with 1 Axes>"
      ]
     },
     "metadata": {
      "needs_background": "light"
     },
     "output_type": "display_data"
    }
   ],
   "source": [
    "fig,ax = plt.subplots(figsize=(20,3))\n",
    "ax.grid(which=\"major\",axis=\"y\", color='#758D99', alpha=0.6, zorder=1)\n",
    "ax.spines[[\"top\",\"right\"]].set_visible(False)\n",
    "plt.bar(x=df2['word'],height=df2['weighted_frequencies'],color='#006BA2', zorder=2)\n",
    "plt.ylabel('Weighted_frequency')\n",
    "plt.title('Top 20 words by weighted frequency', fontsize=13, weight='bold', alpha=.8)\n",
    "plt.savefig('weighted_frequency.png',    \n",
    "            dpi = 300,                     \n",
    "            bbox_inches=\"tight\",           \n",
    "            facecolor='white') "
   ]
  },
  {
   "cell_type": "markdown",
   "id": "b1a33bbe-5dfb-489b-97c8-b53d7771ebea",
   "metadata": {},
   "source": [
    "6. To calculate the sentence scores that will be used to build our summary, let's calculate their scores by adding weight frequencies of the words for sentences with more than 50 words. Thay expresses his most profound ideas in his longest sentences. "
   ]
  },
  {
   "cell_type": "code",
   "execution_count": 29,
   "id": "ef4e6375-53bb-4d2a-83e8-0653b41637d6",
   "metadata": {
    "collapsed": true,
    "jupyter": {
     "outputs_hidden": true
    },
    "tags": []
   },
   "outputs": [
    {
     "data": {
      "text/plain": [
       "[('our political leaders haven’t been trained in the art of helping to remove fear, anger, and suspicion.that is why we have to call for help from those of us who are spiritual, who are compassionate, who know how to listen, and who know how to transform fear, anger, and suspicion in ourselves.when fear and anger become a collective energy, it’s so dangerous, and a war can break out at any time.i was in the united states on september 11, 2001. my book, anger, had just been published the week before.',\n",
       "  9.796875),\n",
       " ('according to our experience of practice, if you want to help someone reduce their fear, anger, and suspicion, you first have to practice in order to reduce the amount of fear, anger, and suspicion in yourself.in busan, south korea, i gave a talk called “peace is possible” to a crowd of eleven thousand people.',\n",
       "  8.609375),\n",
       " ('and they always promised that when they returned to the middle east, they would set up a sangha and organize the same kind of practice so that other people could come and practice and suffer less.i think if political leaders knew the practice, they would be able to help both sides of the conflict to remove the suspicion, wrong perception, fear, and anger so that peace could truly be possible.',\n",
       "  7.59375),\n",
       " ('when you try to make nuclear weapons, it’s not truly because you want to destroy the other side, it’s because you’re fearful that they’ll attack you first.if you want to help north and south korea, if you want to help palestinians and israelis, you should do something to help remove the fear, anger, and suspicion on both sides.',\n",
       "  6.953125),\n",
       " ('the south has to listen to itself and transform before it can listen to the north and help the north to remove fear, anger, and suspicion.then when the united states has listened and understood its own suffering, americans can turn to the middle east and use the kind of language called gentle, loving speech.',\n",
       "  5.890625),\n",
       " ('he no longer has anger when he sees his father; in fact, because he can see the suffering in his father, he’s motivated by a desire to say something or do something to help his father suffer less.since he has compassion in his heart, he can say something like, “daddy, i know you have suffered so much in the last many years.',\n",
       "  5.796875),\n",
       " ('many of us who aren’t from the middle east walked with them, sat with them, breathed with them, ate with them, and supported them in their practice of getting in touch with the wonders of life, to heal, to nourish, and to embrace the painful feelings and emotions inside.when you’re a beginner in the practice, the energy of mindfulness that you generate isn’t powerful enough to embrace the huge amount of fear, anger, and suspicion inside you.',\n",
       "  5.328125),\n",
       " ('when you’ve seen that, you won’t look at them with suspicion, anger, and fear anymore, and you easily can use the kind of language we call loving speech.we advise the group that has a chance to speak out, to use the kind of language that can help the other side to get all the information they need.',\n",
       "  4.890625),\n",
       " ('in that talk i said that the first thing i would advise the united states to do is to practice the eighth exercise of mindful breathing: recognizing the fear and the anger and trying to calm down.not many days later, i gave the same kind of talk at the riverside church in new york.',\n",
       "  4.53125),\n",
       " ('and your practice of listening will have a quality that can help the other person suffer less.in fact, when one group listens to the other group like that, we recognize for the first time that the children and adults on the other side have suffered exactly the same kind of suffering that we have on this side.',\n",
       "  4.296875)]"
      ]
     },
     "execution_count": 29,
     "metadata": {},
     "output_type": "execute_result"
    }
   ],
   "source": [
    "sentence_scores = {}\n",
    "for sent in sentence_list:\n",
    "    for word in nltk.word_tokenize(sent):\n",
    "        if word in word_frequencies.keys():\n",
    "            if len(sent.split(' ')) > 50 :\n",
    "                if sent not in sentence_scores.keys():\n",
    "                    sentence_scores[sent] = word_frequencies[word]\n",
    "                else:\n",
    "                    sentence_scores[sent] += word_frequencies[word]\n",
    "                    \n",
    "Counter(sentence_scores).most_common(10)"
   ]
  },
  {
   "cell_type": "markdown",
   "id": "d573fd3f-ff52-4a1f-b56f-eecf32e8b53c",
   "metadata": {},
   "source": [
    "7. Here is the summary based on the 5 highest scored sentences. "
   ]
  },
  {
   "cell_type": "code",
   "execution_count": 35,
   "id": "61c6640e-3118-4748-9187-6e696b483a60",
   "metadata": {},
   "outputs": [
    {
     "data": {
      "text/plain": [
       "'our political leaders haven’t been trained in the art of helping to remove fear, anger, and suspicion.that is why we have to call for help from those of us who are spiritual, who are compassionate, who know how to listen, and who know how to transform fear, anger, and suspicion in ourselves.when fear and anger become a collective energy, it’s so dangerous, and a war can break out at any time.i was in the united states on september 11, 2001. my book, anger, had just been published the week before. according to our experience of practice, if you want to help someone reduce their fear, anger, and suspicion, you first have to practice in order to reduce the amount of fear, anger, and suspicion in yourself.in busan, south korea, i gave a talk called “peace is possible” to a crowd of eleven thousand people. and they always promised that when they returned to the middle east, they would set up a sangha and organize the same kind of practice so that other people could come and practice and suffer less.i think if political leaders knew the practice, they would be able to help both sides of the conflict to remove the suspicion, wrong perception, fear, and anger so that peace could truly be possible. when you try to make nuclear weapons, it’s not truly because you want to destroy the other side, it’s because you’re fearful that they’ll attack you first.if you want to help north and south korea, if you want to help palestinians and israelis, you should do something to help remove the fear, anger, and suspicion on both sides. the south has to listen to itself and transform before it can listen to the north and help the north to remove fear, anger, and suspicion.then when the united states has listened and understood its own suffering, americans can turn to the middle east and use the kind of language called gentle, loving speech.'"
      ]
     },
     "execution_count": 35,
     "metadata": {},
     "output_type": "execute_result"
    }
   ],
   "source": [
    "import heapq\n",
    "summary_sentences = heapq.nlargest(5, sentence_scores, key=sentence_scores.get)\n",
    "\n",
    "summary = ' '.join(summary_sentences)\n",
    "summary\n"
   ]
  },
  {
   "cell_type": "code",
   "execution_count": null,
   "id": "becd84a3-892e-4761-a174-eee6d976aa76",
   "metadata": {},
   "outputs": [],
   "source": []
  },
  {
   "cell_type": "code",
   "execution_count": null,
   "id": "88e249d2-2d23-419e-a0f1-37ab41d8edad",
   "metadata": {},
   "outputs": [],
   "source": []
  }
 ],
 "metadata": {
  "kernelspec": {
   "display_name": "Python [conda env:adsml] *",
   "language": "python",
   "name": "conda-env-adsml-py"
  },
  "language_info": {
   "codemirror_mode": {
    "name": "ipython",
    "version": 3
   },
   "file_extension": ".py",
   "mimetype": "text/x-python",
   "name": "python",
   "nbconvert_exporter": "python",
   "pygments_lexer": "ipython3",
   "version": "3.9.7"
  }
 },
 "nbformat": 4,
 "nbformat_minor": 5
}
